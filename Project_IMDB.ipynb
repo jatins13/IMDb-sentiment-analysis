{
  "nbformat": 4,
  "nbformat_minor": 0,
  "metadata": {
    "accelerator": "GPU",
    "colab": {
      "name": "Project_IMDB.ipynb",
      "provenance": [],
      "collapsed_sections": [],
      "include_colab_link": true
    },
    "kernelspec": {
      "display_name": "Python 3",
      "name": "python3"
    }
  },
  "cells": [
    {
      "cell_type": "markdown",
      "metadata": {
        "id": "view-in-github",
        "colab_type": "text"
      },
      "source": [
        "<a href=\"https://colab.research.google.com/github/jatins13/IMDb-sentiment-analysis/blob/main/Project_IMDB.ipynb\" target=\"_parent\"><img src=\"https://colab.research.google.com/assets/colab-badge.svg\" alt=\"Open In Colab\"/></a>"
      ]
    },
    {
      "cell_type": "code",
      "metadata": {
        "id": "9LSZS5aKSiOS"
      },
      "source": [
        "import urllib.request as req\n",
        "import tarfile\n",
        "import os\n",
        "from matplotlib import pyplot as plt\n",
        "\n",
        "imdb_url = \"http://ai.stanford.edu/~amaas/data/sentiment/aclImdb_v1.tar.gz\"\n",
        "\n",
        "save_filename = \"aclImdb_v1.tar.gz\"\n",
        "if not os.path.exists(save_filename):\n",
        "    req.urlretrieve(imdb_url, save_filename)\n",
        "    \n",
        "imdb_folder = \"aclImdb\"\n",
        "if not os.path.exists(imdb_folder):\n",
        "    with tarfile.open(save_filename) as tar:\n",
        "        tar.extractall()"
      ],
      "execution_count": 1,
      "outputs": []
    },
    {
      "cell_type": "code",
      "metadata": {
        "id": "FhrkTx2vSxQM"
      },
      "source": [
        "import numpy as np\n",
        "import re\n",
        "\n",
        "def get_reviews(data_folder=\"/train\"):\n",
        "    reviews = []\n",
        "    labels = []\n",
        "    train_values = np.array([0,0])\n",
        "    test_values = np.array([0,0])\n",
        "    for index,sentiment in enumerate([\"/neg/\", \"/pos/\"]):\n",
        "        path = imdb_folder + data_folder + sentiment\n",
        "        path_test = imdb_folder + \"/test\" + sentiment\n",
        "        for filename in sorted(os.listdir(path)):\n",
        "            with open(path + filename, 'r') as f:\n",
        "                review = f.read()\n",
        "                review = review.lower()\n",
        "                review = review.replace(\"<br />\", \" \")\n",
        "                review = re.sub(r\"[^a-z ]\", \" \", review)\n",
        "                review = re.sub(r\" +\", \" \", review)\n",
        "                review = review.split(\" \")\n",
        "                reviews.append(review)\n",
        "                \n",
        "                label = [0, 0]\n",
        "                label[index] = 1\n",
        "                labels.append(label)\n",
        "        list = os.listdir(path) # dir is your directory path\n",
        "        number_files = len(list)\n",
        "        train_values[index] = number_files\n",
        "\n",
        "        list = os.listdir(path_test)\n",
        "        number_files = len(list)\n",
        "        test_values[index] = number_files\n",
        "\n",
        "    return reviews, np.array(labels), train_values, test_values"
      ],
      "execution_count": 2,
      "outputs": []
    },
    {
      "cell_type": "code",
      "metadata": {
        "id": "ddsv-SUGTD5C",
        "colab": {
          "base_uri": "https://localhost:8080/",
          "height": 616
        },
        "outputId": "4b69e178-5f14-4923-ed15-a71e7aedbefb"
      },
      "source": [
        "train_reviews, train_labels, train_values,test_values = get_reviews()\n",
        "print(len(train_reviews))\n",
        "print(train_reviews[0])\n",
        "print(train_labels[0])\n",
        "bars = ('Negative','Positive')\n",
        "y_pos = np.arange(len(bars))\n",
        "plt.bar(y_pos,train_values)\n",
        "plt.xticks(y_pos,bars)\n",
        "plt.title('Training Set')\n",
        "plt.show()\n",
        "plt.bar(y_pos,test_values)\n",
        "plt.xticks(y_pos,bars)\n",
        "plt.title('Test Set')\n",
        "plt.show()"
      ],
      "execution_count": null,
      "outputs": [
        {
          "output_type": "stream",
          "text": [
            "25000\n",
            "['story', 'of', 'a', 'man', 'who', 'has', 'unnatural', 'feelings', 'for', 'a', 'pig', 'starts', 'out', 'with', 'a', 'opening', 'scene', 'that', 'is', 'a', 'terrific', 'example', 'of', 'absurd', 'comedy', 'a', 'formal', 'orchestra', 'audience', 'is', 'turned', 'into', 'an', 'insane', 'violent', 'mob', 'by', 'the', 'crazy', 'chantings', 'of', 'it', 's', 'singers', 'unfortunately', 'it', 'stays', 'absurd', 'the', 'whole', 'time', 'with', 'no', 'general', 'narrative', 'eventually', 'making', 'it', 'just', 'too', 'off', 'putting', 'even', 'those', 'from', 'the', 'era', 'should', 'be', 'turned', 'off', 'the', 'cryptic', 'dialogue', 'would', 'make', 'shakespeare', 'seem', 'easy', 'to', 'a', 'third', 'grader', 'on', 'a', 'technical', 'level', 'it', 's', 'better', 'than', 'you', 'might', 'think', 'with', 'some', 'good', 'cinematography', 'by', 'future', 'great', 'vilmos', 'zsigmond', 'future', 'stars', 'sally', 'kirkland', 'and', 'frederic', 'forrest', 'can', 'be', 'seen', 'briefly', '']\n",
            "[1 0]\n"
          ],
          "name": "stdout"
        },
        {
          "output_type": "display_data",
          "data": {
            "image/png": "[encoded data removed]",
            "text/plain": [
              "<Figure size 432x288 with 1 Axes>"
            ]
          },
          "metadata": {
            "tags": [],
            "needs_background": "light"
          }
        },
        {
          "output_type": "display_data",
          "data": {
            "image/png": "[encoded data removed]",
            "text/plain": [
              "<Figure size 432x288 with 1 Axes>"
            ]
          },
          "metadata": {
            "tags": [],
            "needs_background": "light"
          }
        }
      ]
    },
    {
      "cell_type": "code",
      "metadata": {
        "id": "Jn1whGe_TIY7"
      },
      "source": [
        "import zipfile\n",
        "\n",
        "glove_url = \"http://nlp.stanford.edu/data/glove.6B.zip\"\n",
        "\n",
        "save_filename = \"glove.6B.zip\"\n",
        "if not os.path.exists(save_filename):\n",
        "    req.urlretrieve(glove_url, save_filename)\n",
        "    \n",
        "EMBEDDING_SIZE = 50\n",
        "\n",
        "glove_filename = \"glove.6B.{}d.txt\".format(EMBEDDING_SIZE)\n",
        "if not os.path.exists(glove_filename) and EMBEDDING_SIZE in [50,100,200,300]:\n",
        "    with zipfile.ZipFile(save_filename, 'r') as z:\n",
        "        z.extractall()"
      ],
      "execution_count": null,
      "outputs": []
    },
    {
      "cell_type": "code",
      "metadata": {
        "id": "FcH-jnAEUwBm"
      },
      "source": [
        "from collections import defaultdict\n",
        "\n",
        "def load_embeddings():\n",
        "    with open(glove_filename, 'r') as glove_vectors:\n",
        "        word_to_int = defaultdict(int)\n",
        "        int_to_vec = defaultdict(lambda: np.zeros([EMBEDDING_SIZE]))\n",
        "        \n",
        "        index = 1\n",
        "        for line in glove_vectors:\n",
        "            fields = line.split()\n",
        "            word = str(fields[0])\n",
        "            vec = np.asarray(fields[1:], np.float32)\n",
        "            word_to_int[word] = index\n",
        "            int_to_vec[index] = vec\n",
        "            index += 1\n",
        "    return word_to_int, int_to_vec\n",
        "\n",
        "word_to_int, int_to_vec = load_embeddings()"
      ],
      "execution_count": null,
      "outputs": []
    },
    {
      "cell_type": "code",
      "metadata": {
        "id": "j-xhawrkU7oU",
        "colab": {
          "base_uri": "https://localhost:8080/",
          "height": 54
        },
        "outputId": "ae935f37-60c0-4cb1-a8a7-48678bff2b63"
      },
      "source": [
        "def review_words_to_ints(train_reviews):\n",
        "    train_data = []\n",
        "    for review in train_reviews:\n",
        "        int_review = [word_to_int[word] for word in review]\n",
        "        train_data.append(int_review)\n",
        "    return train_data\n",
        "\n",
        "train_reviews = review_words_to_ints(train_reviews)\n",
        "print(train_reviews[0])"
      ],
      "execution_count": null,
      "outputs": [
        {
          "output_type": "stream",
          "text": [
            "[524, 4, 8, 301, 39, 32, 28639, 5045, 11, 8, 9611, 2384, 67, 18, 8, 876, 1501, 13, 15, 8, 11026, 881, 4, 12414, 2842, 8, 2725, 4079, 2053, 15, 853, 76, 30, 14917, 2529, 7632, 22, 1, 5579, 0, 4, 21, 1535, 7793, 4717, 21, 7888, 12414, 1, 1116, 80, 18, 85, 217, 8040, 1182, 434, 21, 121, 318, 139, 2221, 152, 156, 26, 1, 1593, 190, 31, 853, 139, 1, 29298, 2470, 55, 160, 7478, 1915, 1674, 5, 8, 246, 20156, 14, 8, 2027, 506, 21, 1535, 440, 74, 82, 415, 270, 18, 78, 220, 22182, 22, 582, 354, 107311, 127384, 582, 1570, 10946, 23761, 6, 15679, 16084, 87, 31, 542, 3443, 0]\n"
          ],
          "name": "stdout"
        }
      ]
    },
    {
      "cell_type": "code",
      "metadata": {
        "id": "lvg5__JaVEbp",
        "colab": {
          "base_uri": "https://localhost:8080/",
          "height": 336
        },
        "outputId": "7f792bd8-0a21-4bef-9eac-eb38605bd9e2"
      },
      "source": [
        "import seaborn as sns\n",
        "\n",
        "train_reviews_lens = [len(review) for review in train_reviews]\n",
        "sns.distplot(train_reviews_lens)"
      ],
      "execution_count": null,
      "outputs": [
        {
          "output_type": "stream",
          "text": [
            "/usr/local/lib/python3.6/dist-packages/seaborn/distributions.py:2551: FutureWarning: `distplot` is a deprecated function and will be removed in a future version. Please adapt your code to use either `displot` (a figure-level function with similar flexibility) or `histplot` (an axes-level function for histograms).\n",
            "  warnings.warn(msg, FutureWarning)\n"
          ],
          "name": "stderr"
        },
        {
          "output_type": "execute_result",
          "data": {
            "text/plain": [
              "<matplotlib.axes._subplots.AxesSubplot at 0x7f0c8cf814e0>"
            ]
          },
          "metadata": {
            "tags": []
          },
          "execution_count": 7
        },
        {
          "output_type": "display_data",
          "data": {
            "image/png": "[encoded data removed]",
            "text/plain": [
              "<Figure size 432x288 with 1 Axes>"
            ]
          },
          "metadata": {
            "tags": [],
            "needs_background": "light"
          }
        }
      ]
    },
    {
      "cell_type": "code",
      "metadata": {
        "id": "NsGWY0-TVTBy",
        "colab": {
          "base_uri": "https://localhost:8080/",
          "height": 54
        },
        "outputId": "cb3617eb-810d-40fd-cfa3-86b7e85d5e87"
      },
      "source": [
        "MAX_REVIEW_LEN = 500\n",
        "\n",
        "def zero_pad_reviews(train_reviews):\n",
        "    train_data_padded = []\n",
        "    for review in train_reviews:\n",
        "        padded = [0] * MAX_REVIEW_LEN\n",
        "        stop_index = min(len(review), MAX_REVIEW_LEN)\n",
        "        padded[:stop_index] = review[:stop_index]\n",
        "        train_data_padded.append(padded)\n",
        "    return train_data_padded\n",
        "\n",
        "train_reviews = zero_pad_reviews(train_reviews)\n",
        "print(train_reviews[0])"
      ],
      "execution_count": null,
      "outputs": [
        {
          "output_type": "stream",
          "text": [
            "[524, 4, 8, 301, 39, 32, 28639, 5045, 11, 8, 9611, 2384, 67, 18, 8, 876, 1501, 13, 15, 8, 11026, 881, 4, 12414, 2842, 8, 2725, 4079, 2053, 15, 853, 76, 30, 14917, 2529, 7632, 22, 1, 5579, 0, 4, 21, 1535, 7793, 4717, 21, 7888, 12414, 1, 1116, 80, 18, 85, 217, 8040, 1182, 434, 21, 121, 318, 139, 2221, 152, 156, 26, 1, 1593, 190, 31, 853, 139, 1, 29298, 2470, 55, 160, 7478, 1915, 1674, 5, 8, 246, 20156, 14, 8, 2027, 506, 21, 1535, 440, 74, 82, 415, 270, 18, 78, 220, 22182, 22, 582, 354, 107311, 127384, 582, 1570, 10946, 23761, 6, 15679, 16084, 87, 31, 542, 3443, 0, 0, 0, 0, 0, 0, 0, 0, 0, 0, 0, 0, 0, 0, 0, 0, 0, 0, 0, 0, 0, 0, 0, 0, 0, 0, 0, 0, 0, 0, 0, 0, 0, 0, 0, 0, 0, 0, 0, 0, 0, 0, 0, 0, 0, 0, 0, 0, 0, 0, 0, 0, 0, 0, 0, 0, 0, 0, 0, 0, 0, 0, 0, 0, 0, 0, 0, 0, 0, 0, 0, 0, 0, 0, 0, 0, 0, 0, 0, 0, 0, 0, 0, 0, 0, 0, 0, 0, 0, 0, 0, 0, 0, 0, 0, 0, 0, 0, 0, 0, 0, 0, 0, 0, 0, 0, 0, 0, 0, 0, 0, 0, 0, 0, 0, 0, 0, 0, 0, 0, 0, 0, 0, 0, 0, 0, 0, 0, 0, 0, 0, 0, 0, 0, 0, 0, 0, 0, 0, 0, 0, 0, 0, 0, 0, 0, 0, 0, 0, 0, 0, 0, 0, 0, 0, 0, 0, 0, 0, 0, 0, 0, 0, 0, 0, 0, 0, 0, 0, 0, 0, 0, 0, 0, 0, 0, 0, 0, 0, 0, 0, 0, 0, 0, 0, 0, 0, 0, 0, 0, 0, 0, 0, 0, 0, 0, 0, 0, 0, 0, 0, 0, 0, 0, 0, 0, 0, 0, 0, 0, 0, 0, 0, 0, 0, 0, 0, 0, 0, 0, 0, 0, 0, 0, 0, 0, 0, 0, 0, 0, 0, 0, 0, 0, 0, 0, 0, 0, 0, 0, 0, 0, 0, 0, 0, 0, 0, 0, 0, 0, 0, 0, 0, 0, 0, 0, 0, 0, 0, 0, 0, 0, 0, 0, 0, 0, 0, 0, 0, 0, 0, 0, 0, 0, 0, 0, 0, 0, 0, 0, 0, 0, 0, 0, 0, 0, 0, 0, 0, 0, 0, 0, 0, 0, 0, 0, 0, 0, 0, 0, 0, 0, 0, 0, 0, 0, 0, 0, 0, 0, 0, 0, 0, 0, 0, 0, 0, 0, 0, 0, 0, 0, 0, 0, 0, 0, 0, 0, 0, 0, 0, 0, 0, 0, 0, 0, 0, 0, 0, 0, 0, 0, 0, 0, 0, 0, 0, 0, 0, 0, 0, 0, 0, 0, 0, 0, 0, 0, 0, 0, 0, 0, 0, 0, 0, 0, 0, 0, 0, 0, 0, 0, 0, 0, 0, 0, 0, 0, 0, 0, 0, 0, 0, 0, 0, 0]\n"
          ],
          "name": "stdout"
        }
      ]
    },
    {
      "cell_type": "code",
      "metadata": {
        "id": "Z8rfZejfVw9L",
        "colab": {
          "base_uri": "https://localhost:8080/",
          "height": 34
        },
        "outputId": "40cfcaa6-beac-4c25-9ed7-35dc8b0ac2c1"
      },
      "source": [
        "def review_ints_to_vecs(train_reviews):\n",
        "    train_data = []\n",
        "    for review in train_reviews:\n",
        "        vec_review = [int_to_vec[word] for word in review]\n",
        "        train_data.append(vec_review)\n",
        "    return train_data\n",
        "\n",
        "train_reviews = np.array(review_ints_to_vecs(train_reviews))\n",
        "print(train_reviews.shape)"
      ],
      "execution_count": null,
      "outputs": [
        {
          "output_type": "stream",
          "text": [
            "(25000, 500, 50)\n"
          ],
          "name": "stdout"
        }
      ]
    },
    {
      "cell_type": "code",
      "metadata": {
        "id": "A6JY0A_OV_NG",
        "colab": {
          "base_uri": "https://localhost:8080/",
          "height": 34
        },
        "outputId": "2ee28632-d867-46e8-e57c-d71c74883a43"
      },
      "source": [
        "%tensorflow_version 1.x\n",
        "import tensorflow as tf\n",
        "\n",
        "def define_graph():\n",
        "    OUTPUT_SIZE = 2\n",
        "    \n",
        "    X = tf.placeholder(tf.float32, [None, MAX_REVIEW_LEN, EMBEDDING_SIZE])\n",
        "    Y = tf.placeholder(tf.int32, [None, OUTPUT_SIZE])\n",
        "    keep_prob = tf.placeholder_with_default(1.0, shape=())\n",
        "    \n",
        "    rnn = tf.contrib.rnn.GRUCell(125, activation=tf.nn.relu)\n",
        "    drop0 = tf.contrib.rnn.DropoutWrapper(rnn, output_keep_prob=keep_prob)\n",
        "    outputs, final = tf.nn.dynamic_rnn(drop0, X, dtype=tf.float32)\n",
        "    dense = tf.layers.dense(outputs[:,-1], 100, activation=tf.nn.relu)\n",
        "    drop1 = tf.layers.dropout(dense, rate=(1-keep_prob))\n",
        "    logits = tf.layers.dense(drop1, OUTPUT_SIZE, activation=None)\n",
        "    \n",
        "    error = tf.nn.softmax_cross_entropy_with_logits_v2(logits=logits, labels=Y)\n",
        "    loss = tf.reduce_sum(error)\n",
        "    optimizer = tf.train.AdamOptimizer(learning_rate=0.001).minimize(loss)\n",
        "    \n",
        "    preds = tf.nn.softmax(logits)\n",
        "    correct = tf.equal(tf.argmax(preds, axis=1), tf.argmax(Y, axis=1))\n",
        "    accuracy = tf.reduce_mean(tf.cast(correct, tf.float32))\n",
        "    \n",
        "    return X, Y, keep_prob, optimizer, loss, accuracy"
      ],
      "execution_count": null,
      "outputs": [
        {
          "output_type": "stream",
          "text": [
            "TensorFlow 1.x selected.\n"
          ],
          "name": "stdout"
        }
      ]
    },
    {
      "cell_type": "code",
      "metadata": {
        "id": "YfqNMw5RWCGa"
      },
      "source": [
        "permutation = [(i//2)+12500*(i%2) for i in range(len(train_reviews))]\n",
        "train_reviews = train_reviews[permutation]\n",
        "train_labels = train_labels[permutation]"
      ],
      "execution_count": null,
      "outputs": []
    },
    {
      "cell_type": "code",
      "metadata": {
        "id": "aY0UMPWFWuke",
        "colab": {
          "base_uri": "https://localhost:8080/",
          "height": 85
        },
        "outputId": "0363b8dd-222d-4edb-9bb5-d95310ea1731"
      },
      "source": [
        "\n",
        "validation_size = 1000\n",
        "train_size = len(train_reviews) - validation_size\n",
        "\n",
        "x_train = train_reviews[:train_size]\n",
        "y_train = train_labels[:train_size]\n",
        "x_val = train_reviews[train_size:]\n",
        "y_val = train_labels[train_size:]\n",
        "\n",
        "print(x_train.shape)\n",
        "print(y_train.shape)\n",
        "print(x_val.shape)\n",
        "print(y_val.shape)"
      ],
      "execution_count": null,
      "outputs": [
        {
          "output_type": "stream",
          "text": [
            "(24000, 500, 50)\n",
            "(24000, 2)\n",
            "(1000, 500, 50)\n",
            "(1000, 2)\n"
          ],
          "name": "stdout"
        }
      ]
    },
    {
      "cell_type": "code",
      "metadata": {
        "id": "zlnxoMa6Ww5O",
        "colab": {
          "base_uri": "https://localhost:8080/",
          "height": 1000
        },
        "outputId": "b3e597c2-662d-4628-9619-4b6959045332"
      },
      "source": [
        "BATCH_SIZE = 50\n",
        "\n",
        "num_samples = len(x_train)\n",
        "num_batches = int(num_samples//BATCH_SIZE)\n",
        "\n",
        "accT = []\n",
        "accV = []\n",
        "from tensorflow.python.framework import ops\n",
        "ops.reset_default_graph()\n",
        "\n",
        "X, Y, keep_prob, optimizer, loss, accuracy = define_graph()\n",
        "\n",
        "with tf.Session() as sess:\n",
        "    sess.run(tf.global_variables_initializer())\n",
        "    \n",
        "    for epoch in range(10):\n",
        "        for i in range(0, num_samples, BATCH_SIZE):\n",
        "            x_train_batch = x_train[i:i+BATCH_SIZE]\n",
        "            y_train_batch = y_train[i:i+BATCH_SIZE]\n",
        "            \n",
        "            _, train_loss, train_acc = sess.run([optimizer, loss, accuracy],\n",
        "                                               feed_dict={X:x_train_batch, Y:y_train_batch, keep_prob:0.5})\n",
        "            \n",
        "            if (i%1000) == 0:\n",
        "                val_acc = sess.run(accuracy, feed_dict={X:x_val, Y:y_val})\n",
        "                print(\"Epoch {0}:{1:2d}, Train loss: {2:2.2f}, Train acc: {3:.3f}, Val acc: {4:.3f}\"\n",
        "                     .format(epoch, i//1000, train_loss, train_acc, val_acc))\n",
        "                accT.append(train_acc)\n",
        "                accV.append(val_acc)"
      ],
      "execution_count": null,
      "outputs": [
        {
          "output_type": "stream",
          "text": [
            "WARNING:tensorflow:\n",
            "The TensorFlow contrib module will not be included in TensorFlow 2.0.\n",
            "For more information, please see:\n",
            "  * https://github.com/tensorflow/community/blob/master/rfcs/20180907-contrib-sunset.md\n",
            "  * https://github.com/tensorflow/addons\n",
            "  * https://github.com/tensorflow/io (for I/O related ops)\n",
            "If you depend on functionality not listed there, please file an issue.\n",
            "\n",
            "WARNING:tensorflow:From <ipython-input-10-1c6893101118>:11: GRUCell.__init__ (from tensorflow.python.ops.rnn_cell_impl) is deprecated and will be removed in a future version.\n",
            "Instructions for updating:\n",
            "This class is equivalent as tf.keras.layers.GRUCell, and will be replaced by that in Tensorflow 2.0.\n",
            "WARNING:tensorflow:From <ipython-input-10-1c6893101118>:13: dynamic_rnn (from tensorflow.python.ops.rnn) is deprecated and will be removed in a future version.\n",
            "Instructions for updating:\n",
            "Please use `keras.layers.RNN(cell)`, which is equivalent to this API\n",
            "WARNING:tensorflow:From /tensorflow-1.15.2/python3.6/tensorflow_core/python/ops/rnn_cell_impl.py:559: Layer.add_variable (from tensorflow.python.keras.engine.base_layer) is deprecated and will be removed in a future version.\n",
            "Instructions for updating:\n",
            "Please use `layer.add_weight` method instead.\n",
            "WARNING:tensorflow:From /tensorflow-1.15.2/python3.6/tensorflow_core/python/ops/rnn_cell_impl.py:565: calling Constant.__init__ (from tensorflow.python.ops.init_ops) with dtype is deprecated and will be removed in a future version.\n",
            "Instructions for updating:\n",
            "Call initializer instance with the dtype argument instead of passing it to the constructor\n",
            "WARNING:tensorflow:From /tensorflow-1.15.2/python3.6/tensorflow_core/python/ops/rnn_cell_impl.py:575: calling Zeros.__init__ (from tensorflow.python.ops.init_ops) with dtype is deprecated and will be removed in a future version.\n",
            "Instructions for updating:\n",
            "Call initializer instance with the dtype argument instead of passing it to the constructor\n",
            "WARNING:tensorflow:From <ipython-input-10-1c6893101118>:14: dense (from tensorflow.python.layers.core) is deprecated and will be removed in a future version.\n",
            "Instructions for updating:\n",
            "Use keras.layers.Dense instead.\n",
            "WARNING:tensorflow:From /tensorflow-1.15.2/python3.6/tensorflow_core/python/layers/core.py:187: Layer.apply (from tensorflow.python.keras.engine.base_layer) is deprecated and will be removed in a future version.\n",
            "Instructions for updating:\n",
            "Please use `layer.__call__` method instead.\n",
            "WARNING:tensorflow:From <ipython-input-10-1c6893101118>:15: dropout (from tensorflow.python.layers.core) is deprecated and will be removed in a future version.\n",
            "Instructions for updating:\n",
            "Use keras.layers.dropout instead.\n",
            "Epoch 0: 0, Train loss: 34.84, Train acc: 0.480, Val acc: 0.501\n",
            "Epoch 0: 1, Train loss: 34.21, Train acc: 0.580, Val acc: 0.506\n",
            "Epoch 0: 2, Train loss: 34.63, Train acc: 0.520, Val acc: 0.507\n",
            "Epoch 0: 3, Train loss: 34.00, Train acc: 0.560, Val acc: 0.506\n",
            "Epoch 0: 4, Train loss: 35.14, Train acc: 0.520, Val acc: 0.508\n",
            "Epoch 0: 5, Train loss: 34.44, Train acc: 0.540, Val acc: 0.499\n",
            "Epoch 0: 6, Train loss: 34.12, Train acc: 0.480, Val acc: 0.500\n",
            "Epoch 0: 7, Train loss: 34.16, Train acc: 0.540, Val acc: 0.509\n",
            "Epoch 0: 8, Train loss: 34.83, Train acc: 0.500, Val acc: 0.504\n",
            "Epoch 0: 9, Train loss: 34.53, Train acc: 0.720, Val acc: 0.498\n",
            "Epoch 0:10, Train loss: 34.51, Train acc: 0.580, Val acc: 0.504\n",
            "Epoch 0:11, Train loss: 34.52, Train acc: 0.560, Val acc: 0.504\n",
            "Epoch 0:12, Train loss: 33.79, Train acc: 0.640, Val acc: 0.506\n",
            "Epoch 0:13, Train loss: 34.88, Train acc: 0.480, Val acc: 0.498\n",
            "Epoch 0:14, Train loss: 34.46, Train acc: 0.480, Val acc: 0.497\n",
            "Epoch 0:15, Train loss: 34.43, Train acc: 0.540, Val acc: 0.509\n",
            "Epoch 0:16, Train loss: 35.11, Train acc: 0.520, Val acc: 0.508\n",
            "Epoch 0:17, Train loss: 34.31, Train acc: 0.640, Val acc: 0.501\n",
            "Epoch 0:18, Train loss: 34.06, Train acc: 0.540, Val acc: 0.500\n",
            "Epoch 0:19, Train loss: 34.10, Train acc: 0.540, Val acc: 0.508\n",
            "Epoch 0:20, Train loss: 34.58, Train acc: 0.520, Val acc: 0.502\n",
            "Epoch 0:21, Train loss: 35.17, Train acc: 0.480, Val acc: 0.497\n",
            "Epoch 0:22, Train loss: 34.49, Train acc: 0.620, Val acc: 0.507\n",
            "Epoch 0:23, Train loss: 34.71, Train acc: 0.500, Val acc: 0.505\n",
            "Epoch 1: 0, Train loss: 34.76, Train acc: 0.460, Val acc: 0.505\n",
            "Epoch 1: 1, Train loss: 34.36, Train acc: 0.520, Val acc: 0.507\n",
            "Epoch 1: 2, Train loss: 34.42, Train acc: 0.520, Val acc: 0.503\n",
            "Epoch 1: 3, Train loss: 34.00, Train acc: 0.620, Val acc: 0.505\n",
            "Epoch 1: 4, Train loss: 35.19, Train acc: 0.500, Val acc: 0.505\n",
            "Epoch 1: 5, Train loss: 34.71, Train acc: 0.540, Val acc: 0.502\n",
            "Epoch 1: 6, Train loss: 33.69, Train acc: 0.700, Val acc: 0.512\n",
            "Epoch 1: 7, Train loss: 34.53, Train acc: 0.520, Val acc: 0.500\n",
            "Epoch 1: 8, Train loss: 34.65, Train acc: 0.440, Val acc: 0.511\n",
            "Epoch 1: 9, Train loss: 34.45, Train acc: 0.500, Val acc: 0.502\n",
            "Epoch 1:10, Train loss: 34.58, Train acc: 0.460, Val acc: 0.508\n",
            "Epoch 1:11, Train loss: 34.33, Train acc: 0.520, Val acc: 0.507\n",
            "Epoch 1:12, Train loss: 33.82, Train acc: 0.560, Val acc: 0.509\n",
            "Epoch 1:13, Train loss: 190.41, Train acc: 0.620, Val acc: 0.507\n",
            "Epoch 1:14, Train loss: 34.89, Train acc: 0.500, Val acc: 0.500\n",
            "Epoch 1:15, Train loss: 33.97, Train acc: 0.600, Val acc: 0.506\n",
            "Epoch 1:16, Train loss: 34.90, Train acc: 0.480, Val acc: 0.506\n",
            "Epoch 1:17, Train loss: 34.72, Train acc: 0.480, Val acc: 0.510\n",
            "Epoch 1:18, Train loss: 34.19, Train acc: 0.520, Val acc: 0.504\n",
            "Epoch 1:19, Train loss: 34.66, Train acc: 0.480, Val acc: 0.507\n",
            "Epoch 1:20, Train loss: 34.32, Train acc: 0.540, Val acc: 0.510\n",
            "Epoch 1:21, Train loss: 34.21, Train acc: 0.640, Val acc: 0.510\n",
            "Epoch 1:22, Train loss: 34.17, Train acc: 0.600, Val acc: 0.504\n",
            "Epoch 1:23, Train loss: 34.74, Train acc: 0.480, Val acc: 0.507\n",
            "Epoch 2: 0, Train loss: 34.98, Train acc: 0.500, Val acc: 0.506\n",
            "Epoch 2: 1, Train loss: 34.54, Train acc: 0.520, Val acc: 0.508\n",
            "Epoch 2: 2, Train loss: 34.53, Train acc: 0.520, Val acc: 0.506\n",
            "Epoch 2: 3, Train loss: 34.36, Train acc: 0.540, Val acc: 0.506\n",
            "Epoch 2: 4, Train loss: 34.73, Train acc: 0.500, Val acc: 0.507\n",
            "Epoch 2: 5, Train loss: 34.67, Train acc: 0.500, Val acc: 0.509\n",
            "Epoch 2: 6, Train loss: 34.15, Train acc: 0.520, Val acc: 0.507\n",
            "Epoch 2: 7, Train loss: 33.95, Train acc: 0.520, Val acc: 0.503\n",
            "Epoch 2: 8, Train loss: 34.41, Train acc: 0.520, Val acc: 0.500\n",
            "Epoch 2: 9, Train loss: 34.50, Train acc: 0.660, Val acc: 0.505\n",
            "Epoch 2:10, Train loss: 35.09, Train acc: 0.600, Val acc: 0.511\n",
            "Epoch 2:11, Train loss: 34.09, Train acc: 0.620, Val acc: 0.507\n",
            "Epoch 2:12, Train loss: 33.69, Train acc: 0.520, Val acc: 0.507\n",
            "Epoch 2:13, Train loss: 34.70, Train acc: 0.480, Val acc: 0.506\n",
            "Epoch 2:14, Train loss: 34.86, Train acc: 0.500, Val acc: 0.499\n",
            "Epoch 2:15, Train loss: 34.38, Train acc: 0.600, Val acc: 0.505\n",
            "Epoch 2:16, Train loss: 34.79, Train acc: 0.500, Val acc: 0.510\n",
            "Epoch 2:17, Train loss: 34.47, Train acc: 0.500, Val acc: 0.507\n",
            "Epoch 2:18, Train loss: 34.21, Train acc: 0.520, Val acc: 0.510\n",
            "Epoch 2:19, Train loss: 35.06, Train acc: 0.500, Val acc: 0.508\n",
            "Epoch 2:20, Train loss: 34.22, Train acc: 0.560, Val acc: 0.509\n",
            "Epoch 2:21, Train loss: 32.11, Train acc: 0.540, Val acc: 0.499\n",
            "Epoch 2:22, Train loss: 34.25, Train acc: 0.560, Val acc: 0.507\n",
            "Epoch 2:23, Train loss: 34.48, Train acc: 0.500, Val acc: 0.509\n",
            "Epoch 3: 0, Train loss: 34.44, Train acc: 0.540, Val acc: 0.513\n",
            "Epoch 3: 1, Train loss: 34.23, Train acc: 0.540, Val acc: 0.513\n",
            "Epoch 3: 2, Train loss: 34.05, Train acc: 0.500, Val acc: 0.511\n",
            "Epoch 3: 3, Train loss: 33.44, Train acc: 0.540, Val acc: 0.514\n",
            "Epoch 3: 4, Train loss: 36.28, Train acc: 0.500, Val acc: 0.501\n",
            "Epoch 3: 5, Train loss: 34.13, Train acc: 0.500, Val acc: 0.500\n",
            "Epoch 3: 6, Train loss: 34.15, Train acc: 0.540, Val acc: 0.495\n",
            "Epoch 3: 7, Train loss: 34.50, Train acc: 0.520, Val acc: 0.495\n",
            "Epoch 3: 8, Train loss: 34.34, Train acc: 0.500, Val acc: 0.497\n",
            "Epoch 3: 9, Train loss: 34.73, Train acc: 0.520, Val acc: 0.498\n",
            "Epoch 3:10, Train loss: 34.64, Train acc: 0.520, Val acc: 0.499\n",
            "Epoch 3:11, Train loss: 34.77, Train acc: 0.540, Val acc: 0.500\n",
            "Epoch 3:12, Train loss: 33.84, Train acc: 0.540, Val acc: 0.505\n",
            "Epoch 3:13, Train loss: 33.86, Train acc: 0.620, Val acc: 0.498\n",
            "Epoch 3:14, Train loss: 34.34, Train acc: 0.500, Val acc: 0.500\n",
            "Epoch 3:15, Train loss: 34.17, Train acc: 0.500, Val acc: 0.504\n",
            "Epoch 3:16, Train loss: 34.51, Train acc: 0.520, Val acc: 0.511\n",
            "Epoch 3:17, Train loss: 34.68, Train acc: 0.500, Val acc: 0.505\n",
            "Epoch 3:18, Train loss: 33.95, Train acc: 0.520, Val acc: 0.504\n",
            "Epoch 3:19, Train loss: 33.80, Train acc: 0.560, Val acc: 0.512\n",
            "Epoch 3:20, Train loss: 33.99, Train acc: 0.540, Val acc: 0.509\n",
            "Epoch 3:21, Train loss: 33.75, Train acc: 0.620, Val acc: 0.501\n",
            "Epoch 3:22, Train loss: 34.86, Train acc: 0.380, Val acc: 0.504\n",
            "Epoch 3:23, Train loss: 34.58, Train acc: 0.420, Val acc: 0.507\n",
            "Epoch 4: 0, Train loss: 34.93, Train acc: 0.460, Val acc: 0.510\n",
            "Epoch 4: 1, Train loss: 33.54, Train acc: 0.620, Val acc: 0.511\n",
            "Epoch 4: 2, Train loss: 34.12, Train acc: 0.500, Val acc: 0.511\n",
            "Epoch 4: 3, Train loss: 33.33, Train acc: 0.580, Val acc: 0.517\n",
            "Epoch 4: 4, Train loss: 35.50, Train acc: 0.520, Val acc: 0.508\n",
            "Epoch 4: 5, Train loss: 33.46, Train acc: 0.560, Val acc: 0.507\n",
            "Epoch 4: 6, Train loss: 34.43, Train acc: 0.520, Val acc: 0.504\n",
            "Epoch 4: 7, Train loss: 63.88, Train acc: 0.580, Val acc: 0.518\n",
            "Epoch 4: 8, Train loss: 33.53, Train acc: 0.540, Val acc: 0.508\n",
            "Epoch 4: 9, Train loss: 34.20, Train acc: 0.480, Val acc: 0.500\n",
            "Epoch 4:10, Train loss: 34.69, Train acc: 0.560, Val acc: 0.505\n",
            "Epoch 4:11, Train loss: 34.11, Train acc: 0.540, Val acc: 0.507\n",
            "Epoch 4:12, Train loss: 32.41, Train acc: 0.520, Val acc: 0.503\n",
            "Epoch 4:13, Train loss: 34.11, Train acc: 0.520, Val acc: 0.510\n",
            "Epoch 4:14, Train loss: 34.39, Train acc: 0.520, Val acc: 0.503\n",
            "Epoch 4:15, Train loss: 34.92, Train acc: 0.540, Val acc: 0.506\n",
            "Epoch 4:16, Train loss: 34.52, Train acc: 0.460, Val acc: 0.502\n",
            "Epoch 4:17, Train loss: 34.49, Train acc: 0.500, Val acc: 0.502\n",
            "Epoch 4:18, Train loss: 34.76, Train acc: 0.380, Val acc: 0.501\n",
            "Epoch 4:19, Train loss: 34.34, Train acc: 0.500, Val acc: 0.511\n",
            "Epoch 4:20, Train loss: 34.20, Train acc: 0.500, Val acc: 0.506\n",
            "Epoch 4:21, Train loss: 33.66, Train acc: 0.520, Val acc: 0.504\n",
            "Epoch 4:22, Train loss: 35.56, Train acc: 0.380, Val acc: 0.502\n",
            "Epoch 4:23, Train loss: 34.70, Train acc: 0.520, Val acc: 0.499\n",
            "Epoch 5: 0, Train loss: 34.62, Train acc: 0.420, Val acc: 0.506\n",
            "Epoch 5: 1, Train loss: 33.75, Train acc: 0.520, Val acc: 0.505\n",
            "Epoch 5: 2, Train loss: 34.23, Train acc: 0.520, Val acc: 0.506\n",
            "Epoch 5: 3, Train loss: 34.22, Train acc: 0.540, Val acc: 0.509\n",
            "Epoch 5: 4, Train loss: 35.12, Train acc: 0.500, Val acc: 0.509\n",
            "Epoch 5: 5, Train loss: 33.37, Train acc: 0.560, Val acc: 0.504\n",
            "Epoch 5: 6, Train loss: 33.65, Train acc: 0.520, Val acc: 0.504\n",
            "Epoch 5: 7, Train loss: 33.77, Train acc: 0.420, Val acc: 0.512\n",
            "Epoch 5: 8, Train loss: 33.90, Train acc: 0.520, Val acc: 0.507\n",
            "Epoch 5: 9, Train loss: 34.89, Train acc: 0.520, Val acc: 0.509\n",
            "Epoch 5:10, Train loss: 34.37, Train acc: 0.520, Val acc: 0.502\n",
            "Epoch 5:11, Train loss: 34.71, Train acc: 0.520, Val acc: 0.503\n",
            "Epoch 5:12, Train loss: 33.86, Train acc: 0.500, Val acc: 0.509\n",
            "Epoch 5:13, Train loss: 33.48, Train acc: 0.540, Val acc: 0.504\n",
            "Epoch 5:14, Train loss: 33.88, Train acc: 0.520, Val acc: 0.510\n",
            "Epoch 5:15, Train loss: 33.52, Train acc: 0.500, Val acc: 0.509\n",
            "Epoch 5:16, Train loss: 34.47, Train acc: 0.500, Val acc: 0.504\n",
            "Epoch 5:17, Train loss: 34.33, Train acc: 0.540, Val acc: 0.508\n",
            "Epoch 5:18, Train loss: 33.36, Train acc: 0.600, Val acc: 0.510\n",
            "Epoch 5:19, Train loss: 32.01, Train acc: 0.580, Val acc: 0.558\n",
            "Epoch 5:20, Train loss: 32.76, Train acc: 0.600, Val acc: 0.533\n",
            "Epoch 5:21, Train loss: 29.19, Train acc: 0.720, Val acc: 0.681\n",
            "Epoch 5:22, Train loss: 29.31, Train acc: 0.660, Val acc: 0.597\n",
            "Epoch 5:23, Train loss: 25.57, Train acc: 0.860, Val acc: 0.707\n",
            "Epoch 6: 0, Train loss: 37.26, Train acc: 0.600, Val acc: 0.698\n",
            "Epoch 6: 1, Train loss: 34.64, Train acc: 0.600, Val acc: 0.578\n",
            "Epoch 6: 2, Train loss: 28.55, Train acc: 0.740, Val acc: 0.692\n",
            "Epoch 6: 3, Train loss: 24.58, Train acc: 0.840, Val acc: 0.742\n",
            "Epoch 6: 4, Train loss: 29.00, Train acc: 0.780, Val acc: 0.713\n",
            "Epoch 6: 5, Train loss: 21.86, Train acc: 0.840, Val acc: 0.708\n",
            "Epoch 6: 6, Train loss: 26.19, Train acc: 0.740, Val acc: 0.732\n",
            "Epoch 6: 7, Train loss: 26.25, Train acc: 0.760, Val acc: 0.716\n",
            "Epoch 6: 8, Train loss: 29.40, Train acc: 0.660, Val acc: 0.548\n",
            "Epoch 6: 9, Train loss: 26.86, Train acc: 0.700, Val acc: 0.718\n",
            "Epoch 6:10, Train loss: 30.11, Train acc: 0.740, Val acc: 0.732\n",
            "Epoch 6:11, Train loss: 29.58, Train acc: 0.680, Val acc: 0.738\n",
            "Epoch 6:12, Train loss: 27.90, Train acc: 0.800, Val acc: 0.734\n",
            "Epoch 6:13, Train loss: 27.17, Train acc: 0.740, Val acc: 0.749\n",
            "Epoch 6:14, Train loss: 19.51, Train acc: 0.840, Val acc: 0.743\n",
            "Epoch 6:15, Train loss: 28.62, Train acc: 0.740, Val acc: 0.741\n",
            "Epoch 6:16, Train loss: 28.20, Train acc: 0.780, Val acc: 0.756\n",
            "Epoch 6:17, Train loss: 23.24, Train acc: 0.820, Val acc: 0.759\n",
            "Epoch 6:18, Train loss: 20.69, Train acc: 0.860, Val acc: 0.751\n",
            "Epoch 6:19, Train loss: 30.45, Train acc: 0.620, Val acc: 0.713\n",
            "Epoch 6:20, Train loss: 22.50, Train acc: 0.820, Val acc: 0.737\n",
            "Epoch 6:21, Train loss: 30.39, Train acc: 0.680, Val acc: 0.729\n",
            "Epoch 6:22, Train loss: 34.03, Train acc: 0.580, Val acc: 0.739\n",
            "Epoch 6:23, Train loss: 14.97, Train acc: 0.900, Val acc: 0.755\n",
            "Epoch 7: 0, Train loss: 29.62, Train acc: 0.660, Val acc: 0.748\n",
            "Epoch 7: 1, Train loss: 21.95, Train acc: 0.840, Val acc: 0.764\n",
            "Epoch 7: 2, Train loss: 30.24, Train acc: 0.720, Val acc: 0.635\n",
            "Epoch 7: 3, Train loss: 29.38, Train acc: 0.800, Val acc: 0.706\n",
            "Epoch 7: 4, Train loss: 27.11, Train acc: 0.800, Val acc: 0.731\n",
            "Epoch 7: 5, Train loss: 20.99, Train acc: 0.880, Val acc: 0.747\n",
            "Epoch 7: 6, Train loss: 28.20, Train acc: 0.740, Val acc: 0.768\n",
            "Epoch 7: 7, Train loss: 22.26, Train acc: 0.780, Val acc: 0.770\n",
            "Epoch 7: 8, Train loss: 26.46, Train acc: 0.720, Val acc: 0.767\n",
            "Epoch 7: 9, Train loss: 24.96, Train acc: 0.760, Val acc: 0.770\n",
            "Epoch 7:10, Train loss: 24.67, Train acc: 0.760, Val acc: 0.776\n",
            "Epoch 7:11, Train loss: 25.68, Train acc: 0.700, Val acc: 0.776\n",
            "Epoch 7:12, Train loss: 18.07, Train acc: 0.880, Val acc: 0.780\n",
            "Epoch 7:13, Train loss: 24.84, Train acc: 0.720, Val acc: 0.781\n",
            "Epoch 7:14, Train loss: 16.88, Train acc: 0.880, Val acc: 0.777\n",
            "Epoch 7:15, Train loss: 24.89, Train acc: 0.740, Val acc: 0.782\n",
            "Epoch 7:16, Train loss: 27.88, Train acc: 0.760, Val acc: 0.784\n",
            "Epoch 7:17, Train loss: 15.62, Train acc: 0.860, Val acc: 0.787\n",
            "Epoch 7:18, Train loss: 18.95, Train acc: 0.800, Val acc: 0.792\n",
            "Epoch 7:19, Train loss: 16.58, Train acc: 0.800, Val acc: 0.788\n",
            "Epoch 7:20, Train loss: 11.92, Train acc: 0.940, Val acc: 0.795\n",
            "Epoch 7:21, Train loss: 25.34, Train acc: 0.760, Val acc: 0.789\n",
            "Epoch 7:22, Train loss: 27.80, Train acc: 0.720, Val acc: 0.792\n",
            "Epoch 7:23, Train loss: 13.72, Train acc: 0.900, Val acc: 0.793\n",
            "Epoch 8: 0, Train loss: 25.26, Train acc: 0.740, Val acc: 0.796\n",
            "Epoch 8: 1, Train loss: 18.76, Train acc: 0.840, Val acc: 0.800\n",
            "Epoch 8: 2, Train loss: 17.55, Train acc: 0.920, Val acc: 0.778\n",
            "Epoch 8: 3, Train loss: 22.98, Train acc: 0.760, Val acc: 0.789\n",
            "Epoch 8: 4, Train loss: 19.55, Train acc: 0.820, Val acc: 0.781\n",
            "Epoch 8: 5, Train loss: 15.72, Train acc: 0.880, Val acc: 0.800\n",
            "Epoch 8: 6, Train loss: 25.77, Train acc: 0.700, Val acc: 0.797\n",
            "Epoch 8: 7, Train loss: 15.53, Train acc: 0.820, Val acc: 0.803\n",
            "Epoch 8: 8, Train loss: 21.38, Train acc: 0.780, Val acc: 0.805\n",
            "Epoch 8: 9, Train loss: 18.10, Train acc: 0.880, Val acc: 0.806\n",
            "Epoch 8:10, Train loss: 20.88, Train acc: 0.860, Val acc: 0.804\n",
            "Epoch 8:11, Train loss: 27.42, Train acc: 0.740, Val acc: 0.809\n",
            "Epoch 8:12, Train loss: 18.07, Train acc: 0.860, Val acc: 0.804\n",
            "Epoch 8:13, Train loss: 20.89, Train acc: 0.820, Val acc: 0.803\n",
            "Epoch 8:14, Train loss: 15.99, Train acc: 0.880, Val acc: 0.803\n",
            "Epoch 8:15, Train loss: 24.90, Train acc: 0.740, Val acc: 0.806\n",
            "Epoch 8:16, Train loss: 24.52, Train acc: 0.820, Val acc: 0.798\n",
            "Epoch 8:17, Train loss: 14.04, Train acc: 0.900, Val acc: 0.804\n",
            "Epoch 8:18, Train loss: 18.17, Train acc: 0.800, Val acc: 0.807\n",
            "Epoch 8:19, Train loss: 15.05, Train acc: 0.860, Val acc: 0.806\n",
            "Epoch 8:20, Train loss: 12.32, Train acc: 0.960, Val acc: 0.806\n",
            "Epoch 8:21, Train loss: 22.92, Train acc: 0.760, Val acc: 0.810\n",
            "Epoch 8:22, Train loss: 24.60, Train acc: 0.760, Val acc: 0.812\n",
            "Epoch 8:23, Train loss: 9.50, Train acc: 0.940, Val acc: 0.809\n",
            "Epoch 9: 0, Train loss: 23.38, Train acc: 0.760, Val acc: 0.821\n",
            "Epoch 9: 1, Train loss: 16.73, Train acc: 0.840, Val acc: 0.807\n",
            "Epoch 9: 2, Train loss: 14.68, Train acc: 0.860, Val acc: 0.810\n",
            "Epoch 9: 3, Train loss: 14.34, Train acc: 0.860, Val acc: 0.812\n",
            "Epoch 9: 4, Train loss: 12.56, Train acc: 0.880, Val acc: 0.824\n",
            "Epoch 9: 5, Train loss: 17.70, Train acc: 0.860, Val acc: 0.819\n",
            "Epoch 9: 6, Train loss: 24.52, Train acc: 0.680, Val acc: 0.824\n",
            "Epoch 9: 7, Train loss: 13.99, Train acc: 0.920, Val acc: 0.816\n",
            "Epoch 9: 8, Train loss: 17.55, Train acc: 0.820, Val acc: 0.819\n",
            "Epoch 9: 9, Train loss: 15.45, Train acc: 0.880, Val acc: 0.812\n",
            "Epoch 9:10, Train loss: 23.07, Train acc: 0.800, Val acc: 0.810\n",
            "Epoch 9:11, Train loss: 24.05, Train acc: 0.780, Val acc: 0.822\n",
            "Epoch 9:12, Train loss: 14.46, Train acc: 0.880, Val acc: 0.819\n",
            "Epoch 9:13, Train loss: 18.51, Train acc: 0.820, Val acc: 0.821\n",
            "Epoch 9:14, Train loss: 19.35, Train acc: 0.820, Val acc: 0.805\n",
            "Epoch 9:15, Train loss: 25.99, Train acc: 0.780, Val acc: 0.826\n",
            "Epoch 9:16, Train loss: 21.65, Train acc: 0.840, Val acc: 0.824\n",
            "Epoch 9:17, Train loss: 12.49, Train acc: 0.900, Val acc: 0.824\n",
            "Epoch 9:18, Train loss: 14.69, Train acc: 0.860, Val acc: 0.825\n",
            "Epoch 9:19, Train loss: 10.04, Train acc: 0.940, Val acc: 0.823\n",
            "Epoch 9:20, Train loss: 12.11, Train acc: 0.920, Val acc: 0.820\n",
            "Epoch 9:21, Train loss: 21.24, Train acc: 0.780, Val acc: 0.820\n",
            "Epoch 9:22, Train loss: 19.48, Train acc: 0.820, Val acc: 0.834\n",
            "Epoch 9:23, Train loss: 8.41, Train acc: 0.920, Val acc: 0.829\n"
          ],
          "name": "stdout"
        }
      ]
    }
  ]
}